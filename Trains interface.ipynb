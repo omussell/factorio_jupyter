{
 "cells": [
  {
   "cell_type": "markdown",
   "metadata": {},
   "source": [
    "One Locomotive\n",
    "One Cargo wagon\n",
    "\n",
    "\n",
    "Cargo wagon can hold 40 stacks\n",
    "\n",
    "One chest can hold 48 stacks\n",
    "\n",
    "\n",
    "Chest to chest\n",
    "Stack insert to cargo wagon\n",
    "27.69 items/second\n",
    "\n",
    "5 stack inserters on each side of the track\n",
    "\n",
    "10 stack inserters x 27.69 items/second\n",
    "\n",
    "50 copper ore per stack\n",
    "wagon with 40 stacks = 50 x 40\n",
    "\n",
    "Liquids should be transported in barrels\n",
    "\n",
    "- Each barrel can hold 50 liquid\n",
    "- Each stack is 10 barrels\n",
    "- A wagon can hold 400 barrels"
   ]
  },
  {
   "cell_type": "code",
   "execution_count": 5,
   "metadata": {},
   "outputs": [
    {
     "name": "stdout",
     "output_type": "stream",
     "text": [
      "276.90000000000003 per second\n"
     ]
    }
   ],
   "source": [
    "x = 10*27.69\n",
    "print(x,\"per second\")"
   ]
  },
  {
   "cell_type": "code",
   "execution_count": 14,
   "metadata": {},
   "outputs": [
    {
     "name": "stdout",
     "output_type": "stream",
     "text": [
      "2000 ore per wagon\n"
     ]
    }
   ],
   "source": [
    "x = 50*40\n",
    "print(x, \"ore per wagon\")"
   ]
  },
  {
   "cell_type": "code",
   "execution_count": 15,
   "metadata": {},
   "outputs": [
    {
     "name": "stdout",
     "output_type": "stream",
     "text": [
      "7.2228241242325755 seconds to load/unload a cargo wagon\n"
     ]
    }
   ],
   "source": [
    "x = (50*40)/276.9\n",
    "print(x, \"seconds to load/unload a cargo wagon\")"
   ]
  },
  {
   "cell_type": "code",
   "execution_count": 5,
   "metadata": {},
   "outputs": [
    {
     "name": "stdout",
     "output_type": "stream",
     "text": [
      "20000 Fluid volume per wagon\n"
     ]
    }
   ],
   "source": [
    "x = 50*400\n",
    "print(x, \"Fluid volume per wagon\")"
   ]
  },
  {
   "cell_type": "markdown",
   "metadata": {},
   "source": [
    "```\n",
    "Locomotives are burner devices and require fuel to run; the more powerful the fuel used, the faster the locomotive's acceleration and top speed will be. Solid fuel, rocket fuel and nuclear fuel will give +20%, +80% and +150% acceleration respectively, and provide +5%, +15% and +15% for top speed respectively. Multiple locomotives can be used on a single train to increase its speed.\n",
    "```\n",
    "\n",
    "\n",
    "1 item of\tBurning time in seconds\n",
    "\n",
    "- Wood.png\t3.33\n",
    "- Coal.png\t6.67\n",
    "- Solid fuel.png\t20\n",
    "- Rocket fuel.png\t166.67\n",
    "- Nuclear fuel.png\t2016.67\n",
    "\n"
   ]
  },
  {
   "cell_type": "code",
   "execution_count": 4,
   "metadata": {},
   "outputs": [
    {
     "name": "stdout",
     "output_type": "stream",
     "text": [
      "12.099778004439912 Amount of rocket fuel equivalent to 1 nuclear fuel\n"
     ]
    }
   ],
   "source": [
    "x = 2016.67/166.67\n",
    "print(x, \"Amount of rocket fuel equivalent to 1 nuclear fuel\")"
   ]
  },
  {
   "cell_type": "markdown",
   "metadata": {},
   "source": [
    "```\n",
    "train_speed = (old_train_speed - (train_friction_force ÷ train_weight) + ((10 × number_of_locomotives_in_moving_direction × fuel_acceleration_bonus) ÷ train_weight)) × (1 - air_resistance_of_front_rolling_stock × 1000 ÷ train_weight)\n",
    "\n",
    "where train_friction_force is amount of wagons and locomotives ÷ 2 and train_weight is the summed up weight of each wagon and locomotive, see their individual pages for the weight values. The calculated train_speed is capped to max_speed = 1.2 * fuel_top_speed_multiplier.\n",
    "```"
   ]
  },
  {
   "cell_type": "markdown",
   "metadata": {},
   "source": [
    "```\n",
    "Item Vehicle acceleration Vehicle top speed Train max speed\n",
    "Solid fuel   120%    105%    272.2 km/h (~75.6 m/s)\n",
    "Rocket fuel  180%\t115%\t298.1 km/h (83 m/s)\n",
    "Nuclear fuel 250%\t115%\t298.1 km/h (83 m/s)\n",
    "```"
   ]
  },
  {
   "cell_type": "markdown",
   "metadata": {},
   "source": [
    "1 tile = 1 meter"
   ]
  }
 ],
 "metadata": {
  "kernelspec": {
   "display_name": "Python 3",
   "language": "python",
   "name": "python3"
  },
  "language_info": {
   "codemirror_mode": {
    "name": "ipython",
    "version": 3
   },
   "file_extension": ".py",
   "mimetype": "text/x-python",
   "name": "python",
   "nbconvert_exporter": "python",
   "pygments_lexer": "ipython3",
   "version": "3.6.7"
  }
 },
 "nbformat": 4,
 "nbformat_minor": 2
}
