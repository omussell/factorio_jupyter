{
 "cells": [
  {
   "cell_type": "markdown",
   "metadata": {},
   "source": [
    "One Locomotive\n",
    "One Cargo wagon\n",
    "\n",
    "\n",
    "Cargo wagon can hold 40 stacks\n",
    "\n",
    "One chest can hold 48 stacks\n",
    "\n",
    "\n",
    "Chest to chest\n",
    "Stack insert to cargo wagon\n",
    "27.69 items/second\n",
    "\n",
    "5 stack inserters on each side of the track\n",
    "\n",
    "10 stack inserters x 27.69 items/second\n",
    "\n",
    "50 copper ore per stack\n",
    "wagon with 40 stacks = 50 x 40\n",
    "\n",
    "Liquids should be transported in barrels\n",
    "\n",
    "- Each barrel can hold 50 liquid\n",
    "- Each stack is 10 barrels\n",
    "- A wagon can hold 400 barrels"
   ]
  },
  {
   "cell_type": "code",
   "execution_count": 5,
   "metadata": {},
   "outputs": [
    {
     "name": "stdout",
     "output_type": "stream",
     "text": [
      "276.90000000000003 per second\n"
     ]
    }
   ],
   "source": [
    "x = 10*27.69\n",
    "print(x,\"per second\")"
   ]
  },
  {
   "cell_type": "code",
   "execution_count": 14,
   "metadata": {},
   "outputs": [
    {
     "name": "stdout",
     "output_type": "stream",
     "text": [
      "2000 ore per wagon\n"
     ]
    }
   ],
   "source": [
    "x = 50*40\n",
    "print(x, \"ore per wagon\")"
   ]
  },
  {
   "cell_type": "code",
   "execution_count": 15,
   "metadata": {},
   "outputs": [
    {
     "name": "stdout",
     "output_type": "stream",
     "text": [
      "7.2228241242325755 seconds to load/unload a cargo wagon\n"
     ]
    }
   ],
   "source": [
    "x = (50*40)/276.9\n",
    "print(x, \"seconds to load/unload a cargo wagon\")"
   ]
  },
  {
   "cell_type": "code",
   "execution_count": 5,
   "metadata": {},
   "outputs": [
    {
     "name": "stdout",
     "output_type": "stream",
     "text": [
      "20000 Fluid volume per wagon\n"
     ]
    }
   ],
   "source": [
    "x = 50*400\n",
    "print(x, \"Fluid volume per wagon\")"
   ]
  },
  {
   "cell_type": "markdown",
   "metadata": {},
   "source": [
    "```\n",
    "Locomotives are burner devices and require fuel to run; the more powerful the fuel used, the faster the locomotive's acceleration and top speed will be. Solid fuel, rocket fuel and nuclear fuel will give +20%, +80% and +150% acceleration respectively, and provide +5%, +15% and +15% for top speed respectively. Multiple locomotives can be used on a single train to increase its speed.\n",
    "```\n",
    "\n",
    "\n",
    "1 item of\tBurning time in seconds\n",
    "\n",
    "- Wood.png\t3.33\n",
    "- Coal.png\t6.67\n",
    "- Solid fuel.png\t20\n",
    "- Rocket fuel.png\t166.67\n",
    "- Nuclear fuel.png\t2016.67\n",
    "\n"
   ]
  },
  {
   "cell_type": "code",
   "execution_count": 4,
   "metadata": {},
   "outputs": [
    {
     "name": "stdout",
     "output_type": "stream",
     "text": [
      "12.099778004439912 Amount of rocket fuel equivalent to 1 nuclear fuel\n"
     ]
    }
   ],
   "source": [
    "x = 2016.67/166.67\n",
    "print(x, \"Amount of rocket fuel equivalent to 1 nuclear fuel\")"
   ]
  },
  {
   "cell_type": "markdown",
   "metadata": {},
   "source": [
    "```\n",
    "train_speed = (old_train_speed - (train_friction_force ÷ train_weight) + ((10 × number_of_locomotives_in_moving_direction × fuel_acceleration_bonus) ÷ train_weight)) × (1 - air_resistance_of_front_rolling_stock × 1000 ÷ train_weight)\n",
    "\n",
    "where train_friction_force is amount of wagons and locomotives ÷ 2 and train_weight is the summed up weight of each wagon and locomotive, see their individual pages for the weight values. The calculated train_speed is capped to max_speed = 1.2 * fuel_top_speed_multiplier.\n",
    "```"
   ]
  },
  {
   "cell_type": "markdown",
   "metadata": {},
   "source": [
    "```\n",
    "Item Vehicle acceleration Vehicle top speed Train max speed\n",
    "Solid fuel   120%    105%    272.2 km/h (~75.6 m/s)\n",
    "Rocket fuel  180%\t115%\t298.1 km/h (83 m/s)\n",
    "Nuclear fuel 250%\t115%\t298.1 km/h (83 m/s)\n",
    "```"
   ]
  },
  {
   "cell_type": "markdown",
   "metadata": {},
   "source": [
    "1 tile = 1 meter"
   ]
  },
  {
   "cell_type": "markdown",
   "metadata": {},
   "source": [
    "Trains are for transporting ore from distant patches to the main factory bus. \n",
    "\n",
    "There should be a ratio for the amount of ore created and how many trains are needed.\n",
    "\n",
    "Bigger ore patches have more miners, which create more output. More output means there needs to be enough trains collecting so that there is a continuous flow. The distance to travel (and speed of the train) will also need to be taken into account.\n",
    "\n",
    "\n",
    "\n",
    "\n",
    "- Speed of one miner output = rate of ore generation = a\n",
    "- Size of buffer at ore patch = number of chests = b\n",
    "- Speed to fill train wagon = c\n",
    "- Speed of train = d\n",
    "- Distance to dropoff = e\n",
    "- Speed to unload train wagon = f\n"
   ]
  },
  {
   "cell_type": "code",
   "execution_count": 1,
   "metadata": {},
   "outputs": [
    {
     "data": {
      "image/svg+xml": [
       "<?xml version=\"1.0\" encoding=\"UTF-8\" standalone=\"no\"?>\n",
       "<!DOCTYPE svg PUBLIC \"-//W3C//DTD SVG 1.1//EN\"\n",
       " \"http://www.w3.org/Graphics/SVG/1.1/DTD/svg11.dtd\">\n",
       "<!-- Generated by graphviz version 2.40.1 (20161225.0304)\n",
       " -->\n",
       "<!-- Title: train_ore_flow Pages: 1 -->\n",
       "<svg width=\"576pt\" height=\"19pt\"\n",
       " viewBox=\"0.00 0.00 576.00 18.94\" xmlns=\"http://www.w3.org/2000/svg\" xmlns:xlink=\"http://www.w3.org/1999/xlink\">\n",
       "<g id=\"graph0\" class=\"graph\" transform=\"scale(.4304 .4304) rotate(0) translate(4 40)\">\n",
       "<title>train_ore_flow</title>\n",
       "<polygon fill=\"#ffffff\" stroke=\"transparent\" points=\"-4,4 -4,-40 1334.4348,-40 1334.4348,4 -4,4\"/>\n",
       "<!-- Miner -->\n",
       "<g id=\"node1\" class=\"node\">\n",
       "<title>Miner</title>\n",
       "<ellipse fill=\"none\" stroke=\"#000000\" cx=\"32.4971\" cy=\"-18\" rx=\"32.4942\" ry=\"18\"/>\n",
       "<text text-anchor=\"middle\" x=\"32.4971\" y=\"-14.3\" font-family=\"Times,serif\" font-size=\"14.00\" fill=\"#000000\">Miner</text>\n",
       "</g>\n",
       "<!-- Belt -->\n",
       "<g id=\"node2\" class=\"node\">\n",
       "<title>Belt</title>\n",
       "<ellipse fill=\"none\" stroke=\"#000000\" cx=\"161.9942\" cy=\"-18\" rx=\"27\" ry=\"18\"/>\n",
       "<text text-anchor=\"middle\" x=\"161.9942\" y=\"-14.3\" font-family=\"Times,serif\" font-size=\"14.00\" fill=\"#000000\">Belt</text>\n",
       "</g>\n",
       "<!-- Miner&#45;&gt;Belt -->\n",
       "<g id=\"edge1\" class=\"edge\">\n",
       "<title>Miner&#45;&gt;Belt</title>\n",
       "<path fill=\"none\" stroke=\"#000000\" d=\"M65.1747,-18C83.1717,-18 105.5913,-18 124.323,-18\"/>\n",
       "<polygon fill=\"#000000\" stroke=\"#000000\" points=\"124.5807,-21.5001 134.5807,-18 124.5807,-14.5001 124.5807,-21.5001\"/>\n",
       "<text text-anchor=\"middle\" x=\"99.9942\" y=\"-21.8\" font-family=\"Times,serif\" font-size=\"14.00\" fill=\"#000000\">0.75/s</text>\n",
       "</g>\n",
       "<!-- Inserter -->\n",
       "<g id=\"node3\" class=\"node\">\n",
       "<title>Inserter</title>\n",
       "<ellipse fill=\"none\" stroke=\"#000000\" cx=\"285.6909\" cy=\"-18\" rx=\"37.8943\" ry=\"18\"/>\n",
       "<text text-anchor=\"middle\" x=\"285.6909\" y=\"-14.3\" font-family=\"Times,serif\" font-size=\"14.00\" fill=\"#000000\">Inserter</text>\n",
       "</g>\n",
       "<!-- Belt&#45;&gt;Inserter -->\n",
       "<g id=\"edge2\" class=\"edge\">\n",
       "<title>Belt&#45;&gt;Inserter</title>\n",
       "<path fill=\"none\" stroke=\"#000000\" d=\"M189.14,-18C203.3924,-18 221.2799,-18 237.7732,-18\"/>\n",
       "<polygon fill=\"#000000\" stroke=\"#000000\" points=\"237.8175,-21.5001 247.8175,-18 237.8175,-14.5001 237.8175,-21.5001\"/>\n",
       "<text text-anchor=\"middle\" x=\"218.4942\" y=\"-21.8\" font-family=\"Times,serif\" font-size=\"14.00\" fill=\"#000000\">12/s</text>\n",
       "</g>\n",
       "<!-- Buffer -->\n",
       "<g id=\"node4\" class=\"node\">\n",
       "<title>Buffer</title>\n",
       "<ellipse fill=\"none\" stroke=\"#000000\" cx=\"416.1845\" cy=\"-18\" rx=\"33.5952\" ry=\"18\"/>\n",
       "<text text-anchor=\"middle\" x=\"416.1845\" y=\"-14.3\" font-family=\"Times,serif\" font-size=\"14.00\" fill=\"#000000\">Buffer</text>\n",
       "</g>\n",
       "<!-- Inserter&#45;&gt;Buffer -->\n",
       "<g id=\"edge3\" class=\"edge\">\n",
       "<title>Inserter&#45;&gt;Buffer</title>\n",
       "<path fill=\"none\" stroke=\"#000000\" d=\"M323.4351,-18C338.6249,-18 356.249,-18 372.0288,-18\"/>\n",
       "<polygon fill=\"#000000\" stroke=\"#000000\" points=\"372.088,-21.5001 382.0879,-18 372.0879,-14.5001 372.088,-21.5001\"/>\n",
       "<text text-anchor=\"middle\" x=\"352.8875\" y=\"-21.8\" font-family=\"Times,serif\" font-size=\"14.00\" fill=\"#000000\">12/s</text>\n",
       "</g>\n",
       "<!-- Inserter 2 -->\n",
       "<g id=\"node5\" class=\"node\">\n",
       "<title>Inserter 2</title>\n",
       "<ellipse fill=\"none\" stroke=\"#000000\" cx=\"553.1776\" cy=\"-18\" rx=\"44.393\" ry=\"18\"/>\n",
       "<text text-anchor=\"middle\" x=\"553.1776\" y=\"-14.3\" font-family=\"Times,serif\" font-size=\"14.00\" fill=\"#000000\">Inserter 2</text>\n",
       "</g>\n",
       "<!-- Buffer&#45;&gt;Inserter 2 -->\n",
       "<g id=\"edge4\" class=\"edge\">\n",
       "<title>Buffer&#45;&gt;Inserter 2</title>\n",
       "<path fill=\"none\" stroke=\"#000000\" d=\"M450.048,-18C464.7458,-18 482.3308,-18 498.7814,-18\"/>\n",
       "<polygon fill=\"#000000\" stroke=\"#000000\" points=\"498.8418,-21.5001 508.8418,-18 498.8418,-14.5001 498.8418,-21.5001\"/>\n",
       "<text text-anchor=\"middle\" x=\"479.4815\" y=\"-21.8\" font-family=\"Times,serif\" font-size=\"14.00\" fill=\"#000000\">12/s</text>\n",
       "</g>\n",
       "<!-- Train Wagon -->\n",
       "<g id=\"node6\" class=\"node\">\n",
       "<title>Train Wagon</title>\n",
       "<ellipse fill=\"none\" stroke=\"#000000\" cx=\"714.2186\" cy=\"-18\" rx=\"57.6901\" ry=\"18\"/>\n",
       "<text text-anchor=\"middle\" x=\"714.2186\" y=\"-14.3\" font-family=\"Times,serif\" font-size=\"14.00\" fill=\"#000000\">Train Wagon</text>\n",
       "</g>\n",
       "<!-- Inserter 2&#45;&gt;Train Wagon -->\n",
       "<g id=\"edge5\" class=\"edge\">\n",
       "<title>Inserter 2&#45;&gt;Train Wagon</title>\n",
       "<path fill=\"none\" stroke=\"#000000\" d=\"M597.6091,-18C612.6433,-18 629.7938,-18 646.2302,-18\"/>\n",
       "<polygon fill=\"#000000\" stroke=\"#000000\" points=\"646.3466,-21.5001 656.3466,-18 646.3466,-14.5001 646.3466,-21.5001\"/>\n",
       "<text text-anchor=\"middle\" x=\"626.8737\" y=\"-21.8\" font-family=\"Times,serif\" font-size=\"14.00\" fill=\"#000000\">12/s</text>\n",
       "</g>\n",
       "<!-- Inserter 3 -->\n",
       "<g id=\"node7\" class=\"node\">\n",
       "<title>Inserter 3</title>\n",
       "<ellipse fill=\"none\" stroke=\"#000000\" cx=\"875.2595\" cy=\"-18\" rx=\"44.393\" ry=\"18\"/>\n",
       "<text text-anchor=\"middle\" x=\"875.2595\" y=\"-14.3\" font-family=\"Times,serif\" font-size=\"14.00\" fill=\"#000000\">Inserter 3</text>\n",
       "</g>\n",
       "<!-- Train Wagon&#45;&gt;Inserter 3 -->\n",
       "<g id=\"edge6\" class=\"edge\">\n",
       "<title>Train Wagon&#45;&gt;Inserter 3</title>\n",
       "<path fill=\"none\" stroke=\"#000000\" d=\"M772.358,-18C788.1738,-18 805.241,-18 820.8421,-18\"/>\n",
       "<polygon fill=\"#000000\" stroke=\"#000000\" points=\"820.8548,-21.5001 830.8547,-18 820.8547,-14.5001 820.8548,-21.5001\"/>\n",
       "<text text-anchor=\"middle\" x=\"801.5634\" y=\"-21.8\" font-family=\"Times,serif\" font-size=\"14.00\" fill=\"#000000\">12/s</text>\n",
       "</g>\n",
       "<!-- Buffer 2 -->\n",
       "<g id=\"node8\" class=\"node\">\n",
       "<title>Buffer 2</title>\n",
       "<ellipse fill=\"none\" stroke=\"#000000\" cx=\"1018.752\" cy=\"-18\" rx=\"40.0939\" ry=\"18\"/>\n",
       "<text text-anchor=\"middle\" x=\"1018.752\" y=\"-14.3\" font-family=\"Times,serif\" font-size=\"14.00\" fill=\"#000000\">Buffer 2</text>\n",
       "</g>\n",
       "<!-- Inserter 3&#45;&gt;Buffer 2 -->\n",
       "<g id=\"edge7\" class=\"edge\">\n",
       "<title>Inserter 3&#45;&gt;Buffer 2</title>\n",
       "<path fill=\"none\" stroke=\"#000000\" d=\"M919.4829,-18C934.8843,-18 952.2801,-18 968.1581,-18\"/>\n",
       "<polygon fill=\"#000000\" stroke=\"#000000\" points=\"968.3368,-21.5001 978.3368,-18 968.3367,-14.5001 968.3368,-21.5001\"/>\n",
       "<text text-anchor=\"middle\" x=\"948.9556\" y=\"-21.8\" font-family=\"Times,serif\" font-size=\"14.00\" fill=\"#000000\">12/s</text>\n",
       "</g>\n",
       "<!-- Inserter 4 -->\n",
       "<g id=\"node9\" class=\"node\">\n",
       "<title>Inserter 4</title>\n",
       "<ellipse fill=\"none\" stroke=\"#000000\" cx=\"1162.2445\" cy=\"-18\" rx=\"44.393\" ry=\"18\"/>\n",
       "<text text-anchor=\"middle\" x=\"1162.2445\" y=\"-14.3\" font-family=\"Times,serif\" font-size=\"14.00\" fill=\"#000000\">Inserter 4</text>\n",
       "</g>\n",
       "<!-- Buffer 2&#45;&gt;Inserter 4 -->\n",
       "<g id=\"edge8\" class=\"edge\">\n",
       "<title>Buffer 2&#45;&gt;Inserter 4</title>\n",
       "<path fill=\"none\" stroke=\"#000000\" d=\"M1059.1045,-18C1074.1322,-18 1091.4489,-18 1107.5494,-18\"/>\n",
       "<polygon fill=\"#000000\" stroke=\"#000000\" points=\"1107.9179,-21.5001 1117.9179,-18 1107.9179,-14.5001 1107.9179,-21.5001\"/>\n",
       "<text text-anchor=\"middle\" x=\"1088.5484\" y=\"-21.8\" font-family=\"Times,serif\" font-size=\"14.00\" fill=\"#000000\">12/s</text>\n",
       "</g>\n",
       "<!-- Belt 2 -->\n",
       "<g id=\"node10\" class=\"node\">\n",
       "<title>Belt 2</title>\n",
       "<ellipse fill=\"none\" stroke=\"#000000\" cx=\"1297.9377\" cy=\"-18\" rx=\"32.4942\" ry=\"18\"/>\n",
       "<text text-anchor=\"middle\" x=\"1297.9377\" y=\"-14.3\" font-family=\"Times,serif\" font-size=\"14.00\" fill=\"#000000\">Belt 2</text>\n",
       "</g>\n",
       "<!-- Inserter 4&#45;&gt;Belt 2 -->\n",
       "<g id=\"edge9\" class=\"edge\">\n",
       "<title>Inserter 4&#45;&gt;Belt 2</title>\n",
       "<path fill=\"none\" stroke=\"#000000\" d=\"M1206.6755,-18C1222.1244,-18 1239.4195,-18 1254.765,-18\"/>\n",
       "<polygon fill=\"#000000\" stroke=\"#000000\" points=\"1255.0307,-21.5001 1265.0307,-18 1255.0306,-14.5001 1255.0307,-21.5001\"/>\n",
       "<text text-anchor=\"middle\" x=\"1235.9406\" y=\"-21.8\" font-family=\"Times,serif\" font-size=\"14.00\" fill=\"#000000\">12/s</text>\n",
       "</g>\n",
       "</g>\n",
       "</svg>\n"
      ],
      "text/plain": [
       "<graphviz.dot.Digraph at 0x7f3d08c88400>"
      ]
     },
     "execution_count": 1,
     "metadata": {},
     "output_type": "execute_result"
    }
   ],
   "source": [
    "from graphviz import Digraph\n",
    "\n",
    "f = Digraph('train_ore_flow')\n",
    "f.attr(rankdir='LR', size='8,5')\n",
    "\n",
    "f.edge('Miner', 'Belt', label='0.75/s')\n",
    "f.edge('Belt', 'Inserter', label='12/s')\n",
    "f.edge('Inserter', 'Buffer', label='12/s')\n",
    "f.edge('Buffer', 'Inserter 2', label='12/s')\n",
    "f.edge('Inserter 2', 'Train Wagon', label='12/s')\n",
    "f.edge('Train Wagon', 'Inserter 3', label='12/s')\n",
    "f.edge('Inserter 3', 'Buffer 2', label='12/s')\n",
    "f.edge('Buffer 2', 'Inserter 4', label='12/s')\n",
    "f.edge('Inserter 4', 'Belt 2', label='12/s')\n",
    "\n",
    "f"
   ]
  },
  {
   "cell_type": "markdown",
   "metadata": {},
   "source": [
    "Train load station has 10 chests, so minimum ore required is amount of ore in 1 wagon divided by the 10 chests equally. That amount is the minimum amount per chest that needs to be maintained."
   ]
  },
  {
   "cell_type": "code",
   "execution_count": 2,
   "metadata": {},
   "outputs": [
    {
     "data": {
      "text/plain": [
       "4.0"
      ]
     },
     "execution_count": 2,
     "metadata": {},
     "output_type": "execute_result"
    }
   ],
   "source": [
    "40/10"
   ]
  },
  {
   "cell_type": "markdown",
   "metadata": {},
   "source": [
    "So each stack inserter needs to put in 4 stacks\n",
    "\n",
    "50 ore per stack so 200 ore\n",
    "\n",
    "So each chest needs 200 ore at least\n",
    "\n",
    "Miner with 2 x efficiency modules mines at 0.5/s\n",
    "\n",
    "So to get 200 ore, if we had 10 miners it would take:"
   ]
  },
  {
   "cell_type": "code",
   "execution_count": 1,
   "metadata": {},
   "outputs": [
    {
     "name": "stdout",
     "output_type": "stream",
     "text": [
      "40.0 number of seconds to get 200 ore\n",
      "0.6666666666666666 minutes\n"
     ]
    }
   ],
   "source": [
    "x = 200/(0.5*10)\n",
    "print(x, \"number of seconds to get 200 ore\")\n",
    "print(x/60, \"minutes\")"
   ]
  },
  {
   "cell_type": "markdown",
   "metadata": {},
   "source": [
    "So a train needs to leave at least a 400 second / 6.6 minute gap between collections. Or otherwise have more miners"
   ]
  },
  {
   "cell_type": "markdown",
   "metadata": {},
   "source": [
    "33 miners:"
   ]
  },
  {
   "cell_type": "code",
   "execution_count": 2,
   "metadata": {},
   "outputs": [
    {
     "name": "stdout",
     "output_type": "stream",
     "text": [
      "12.121212121212121 number of seconds to get 200 ore\n"
     ]
    }
   ],
   "source": [
    "x = 200/(0.5*33)\n",
    "print(x, \"number of seconds to get 200 ore\")"
   ]
  },
  {
   "cell_type": "code",
   "execution_count": 7,
   "metadata": {},
   "outputs": [
    {
     "name": "stdout",
     "output_type": "stream",
     "text": [
      "302 ore in experiment\n"
     ]
    }
   ],
   "source": [
    "x = 51+32+26+17+25+27+17+24+35+48\n",
    "print(x, \"ore in experiment\")"
   ]
  },
  {
   "cell_type": "markdown",
   "metadata": {},
   "source": [
    "# Fluid load/unload station\n",
    "\n",
    "same as normal load/unload, just needs an assembling machine to convert barrels"
   ]
  },
  {
   "cell_type": "code",
   "execution_count": null,
   "metadata": {},
   "outputs": [],
   "source": []
  }
 ],
 "metadata": {
  "kernelspec": {
   "display_name": "Python 3",
   "language": "python",
   "name": "python3"
  },
  "language_info": {
   "codemirror_mode": {
    "name": "ipython",
    "version": 3
   },
   "file_extension": ".py",
   "mimetype": "text/x-python",
   "name": "python",
   "nbconvert_exporter": "python",
   "pygments_lexer": "ipython3",
   "version": "3.6.8"
  }
 },
 "nbformat": 4,
 "nbformat_minor": 2
}
