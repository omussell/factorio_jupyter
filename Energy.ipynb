{
 "cells": [
  {
   "cell_type": "markdown",
   "metadata": {},
   "source": [
    "Energy generation must always be higher than usage\n",
    "\n",
    "when using modules in machines, the net effect should never increase energy usage (so pair speed/productivity with efficiency, unless this would be too detrimental.)"
   ]
  },
  {
   "cell_type": "markdown",
   "metadata": {},
   "source": [
    "Electric mining drill:\n",
    "\n",
    "Copper, iron, coal and stone at 0.5/s\n",
    "Uranium at 0.25/s\n",
    "\n",
    "Its recommended to use efficiency modules in electric mining drills. This reduces energy consumption (and so pollution) by 50% at module 3. \n",
    "\n",
    "2 efficiency 3 modules and 1 speed 3 module:\n",
    "-30% energy\n",
    "+50% speed\n",
    "\n",
    "3 speed 3 modules:\n",
    "+210% energy\n",
    "+150% speed\n",
    "\n",
    "\n",
    "\n",
    "Base energy: 90.0 kW\n",
    "Base speed: 0.5/s\n",
    "\n",
    "```\n",
    "\n",
    "A kilowatt (kW) is 1000 W, a megawatt (MW) is 1000 kW, and if you're lucky enough to ever make a factory big enough, a gigawatt (GW) is 1000 MW.\n",
    "\n",
    "https://wiki.factorio.com/Tutorial:Applied_power_math\n",
    "```\n",
    "\n",
    "```\n",
    "0.5/s\n",
    "+50%\n",
    "\n",
    "0.5/2 = 0.25\n",
    "0.5+0.25 = 0.75\n",
    "\n",
    "0.75/s\n",
    "\n",
    "0.5/s\n",
    "+150%\n",
    "\n",
    "(0.5/2)*3 = 0.75\n",
    "\n",
    "0.5+0.75 = 1.25\n",
    "\n",
    "1.25/s\n",
    "\n",
    "```\n",
    "\n",
    "```\n",
    "90.0kW\n",
    "\n",
    "-30% energy\n",
    "\n",
    "90/10=9\n",
    "9*3 = 21\n",
    "\n",
    "90-21 = 69kW\n",
    "\n",
    "1 efficiency module -50% 45kW\n",
    "\n",
    "2 efficiency module -80%limit 17.9kW\n",
    "+\n",
    "1 speed module \n",
    "\n",
    "-30% 62.9kW\n",
    "\n",
    "???\n",
    "\n",
    "\n",
    "+210% energy\n",
    "\n",
    "278kW\n",
    "\n",
    "\n",
    "```\n",
    "\n"
   ]
  },
  {
   "cell_type": "markdown",
   "metadata": {},
   "source": [
    "1 miner with 3 speed modules is equivalent to x miners with 2 efficiency modules and 1 speed module (in terms of energy usage):"
   ]
  },
  {
   "cell_type": "code",
   "execution_count": 2,
   "metadata": {},
   "outputs": [
    {
     "name": "stdout",
     "output_type": "stream",
     "text": [
      "4.419713831478537\n"
     ]
    }
   ],
   "source": [
    "x = 278/62.9\n",
    "print(x)"
   ]
  },
  {
   "cell_type": "markdown",
   "metadata": {},
   "source": [
    "1 solar panel = 60kW\n",
    "\n",
    "In bluebprint library there are 720 solar panels"
   ]
  },
  {
   "cell_type": "code",
   "execution_count": 3,
   "metadata": {},
   "outputs": [
    {
     "name": "stdout",
     "output_type": "stream",
     "text": [
      "43200 kW\n"
     ]
    }
   ],
   "source": [
    "x = 720*60\n",
    "print(x, \"kW\")"
   ]
  },
  {
   "cell_type": "markdown",
   "metadata": {},
   "source": [
    "Each miner uses 62.9kW. Solar blueprint produces 43200kW. How many miners max per blueprint?"
   ]
  },
  {
   "cell_type": "code",
   "execution_count": 1,
   "metadata": {},
   "outputs": [
    {
     "data": {
      "text/plain": [
       "686.8044515103339"
      ]
     },
     "execution_count": 1,
     "metadata": {},
     "output_type": "execute_result"
    }
   ],
   "source": [
    "43200/62.9"
   ]
  },
  {
   "cell_type": "code",
   "execution_count": null,
   "metadata": {},
   "outputs": [],
   "source": []
  }
 ],
 "metadata": {
  "kernelspec": {
   "display_name": "Python 3",
   "language": "python",
   "name": "python3"
  },
  "language_info": {
   "codemirror_mode": {
    "name": "ipython",
    "version": 3
   },
   "file_extension": ".py",
   "mimetype": "text/x-python",
   "name": "python",
   "nbconvert_exporter": "python",
   "pygments_lexer": "ipython3",
   "version": "3.6.7"
  }
 },
 "nbformat": 4,
 "nbformat_minor": 2
}
