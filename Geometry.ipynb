{
 "cells": [
  {
   "cell_type": "markdown",
   "metadata": {},
   "source": [
    "# Space\n",
    "\n",
    "How to measure the amount of space taken up by factorio machines\n",
    "\n",
    "Also how to efficiently place machines.\n",
    "\n",
    "1. How to measure the space taken up by a blueprint / module / set of machines\n",
    "2. Given a particular blueprint, how to fit that inside given space constraints. For example, with a modular mining blueprint, how many of these bluebprints can be fit inside a particular patch of ore. \n",
    "\n",
    "\n",
    "Output for any ore patch should be 2 blue belts\n",
    "\n",
    "Miner output is variable, so putting the output into chests gives a buffer and means the output between the miner chests and the train station chests is static\n"
   ]
  },
  {
   "cell_type": "markdown",
   "metadata": {},
   "source": [
    "Fitting shapes into other shapes is called bin-packing: http://cgi.csc.liv.ac.uk/~epa/surveyhtml.html\n",
    "\n",
    "Though bin packing appears to be more like different sized objects being fitted into a fix sized bin. \n",
    "\n",
    "The blueprint size will always be the same, just tiled. Maybe tessellation?"
   ]
  },
  {
   "cell_type": "markdown",
   "metadata": {},
   "source": [
    "```\n",
    "\n",
    "Stone wall = [1,1]\n",
    "\n",
    "Assembling machine 3 = [3,3]\n",
    "\n",
    "Electric Furnace = [3,3]\n",
    "\n",
    "Steam Turbine = [3,5]\n",
    "\n",
    "Heat pipe = [1,1]\n",
    "\n",
    "Substation = [2,2]\n",
    "\n",
    "Big electric pole = [2,2]\n",
    "\n",
    "Medium electric pole = [1,1]\n",
    "\n",
    "Belts = [1,1]\n",
    "\n",
    "Splitters = [1,2]\n",
    "\n",
    "Inserters = [1,1]\n",
    "\n",
    "Rail = [2,2]\n",
    "\n",
    "Train stuff = [2,6]\n",
    "\n",
    "Laser Turret = [2,2]\n",
    "\n",
    "Solar panel = [3,3]\n",
    "\n",
    "Accumulator = [2,2]\n",
    "\n",
    "Centrifuge = [3,3]\n",
    "\n",
    "Chemical plant = [3,3]\n",
    "\n",
    "Oil refinery = [5,5]\n",
    "\n",
    "Pump = [1,2]\n",
    "\n",
    "Nuclear reactor = [5,5]\n",
    "\n",
    "Electric mining drill = [3,3]\n",
    "\n",
    "Storage tank = [3,3]\n",
    "\n",
    "```"
   ]
  },
  {
   "cell_type": "markdown",
   "metadata": {},
   "source": [
    "```\n",
    "\n",
    "Laser turret fire radius = 23\n",
    "from edge of turrets side\n",
    "\n",
    "     23\n",
    "     |\n",
    "23 - 2,2 - 23\n",
    "     |\n",
    "     23\n",
    "\n",
    "```\n",
    "\n",
    "so a diameter of 24 then lolwtf\n",
    "\n",
    "\n",
    "Use matplotlib patches to draw this layout"
   ]
  },
  {
   "cell_type": "code",
   "execution_count": 8,
   "metadata": {},
   "outputs": [
    {
     "ename": "AttributeError",
     "evalue": "'AxesSubplot' object has no attribute 'addartist'",
     "output_type": "error",
     "traceback": [
      "\u001b[0;31m---------------------------------------------------------------------------\u001b[0m",
      "\u001b[0;31mAttributeError\u001b[0m                            Traceback (most recent call last)",
      "\u001b[0;32m<ipython-input-8-b2fd228048eb>\u001b[0m in \u001b[0;36m<module>\u001b[0;34m\u001b[0m\n\u001b[1;32m      3\u001b[0m \u001b[0;32mimport\u001b[0m \u001b[0mmatplotlib\u001b[0m\u001b[0;34m.\u001b[0m\u001b[0mpyplot\u001b[0m \u001b[0;32mas\u001b[0m \u001b[0mplt\u001b[0m\u001b[0;34m\u001b[0m\u001b[0;34m\u001b[0m\u001b[0m\n\u001b[1;32m      4\u001b[0m \u001b[0mcircle1\u001b[0m \u001b[0;34m=\u001b[0m \u001b[0mplt\u001b[0m\u001b[0;34m.\u001b[0m\u001b[0mCircle\u001b[0m\u001b[0;34m(\u001b[0m\u001b[0;34m(\u001b[0m\u001b[0;36m0.5\u001b[0m\u001b[0;34m,\u001b[0m\u001b[0;36m0.5\u001b[0m\u001b[0;34m)\u001b[0m\u001b[0;34m,\u001b[0m\u001b[0;36m.2\u001b[0m\u001b[0;34m,\u001b[0m\u001b[0mcolor\u001b[0m\u001b[0;34m=\u001b[0m\u001b[0;34m'r'\u001b[0m\u001b[0;34m)\u001b[0m\u001b[0;34m\u001b[0m\u001b[0;34m\u001b[0m\u001b[0m\n\u001b[0;32m----> 5\u001b[0;31m \u001b[0mplt\u001b[0m\u001b[0;34m.\u001b[0m\u001b[0mgcf\u001b[0m\u001b[0;34m(\u001b[0m\u001b[0;34m)\u001b[0m\u001b[0;34m.\u001b[0m\u001b[0mgca\u001b[0m\u001b[0;34m(\u001b[0m\u001b[0;34m)\u001b[0m\u001b[0;34m.\u001b[0m\u001b[0maddartist\u001b[0m\u001b[0;34m(\u001b[0m\u001b[0mcircle1\u001b[0m\u001b[0;34m)\u001b[0m\u001b[0;34m\u001b[0m\u001b[0;34m\u001b[0m\u001b[0m\n\u001b[0m\u001b[1;32m      6\u001b[0m \u001b[0;34m\u001b[0m\u001b[0m\n\u001b[1;32m      7\u001b[0m \u001b[0mplt\u001b[0m\u001b[0;34m.\u001b[0m\u001b[0mshow\u001b[0m\u001b[0;34m(\u001b[0m\u001b[0;34m)\u001b[0m\u001b[0;34m\u001b[0m\u001b[0;34m\u001b[0m\u001b[0m\n",
      "\u001b[0;31mAttributeError\u001b[0m: 'AxesSubplot' object has no attribute 'addartist'"
     ]
    },
    {
     "data": {
      "image/png": "[encoded data removed]",
      "text/plain": [
       "<Figure size 432x288 with 1 Axes>"
      ]
     },
     "metadata": {
      "needs_background": "light"
     },
     "output_type": "display_data"
    }
   ],
   "source": [
    "%matplotlib inline \n",
    "\n",
    "import matplotlib.pyplot as plt\n",
    "circle1 = plt.Circle((0.5,0.5),.2,color='r')\n",
    "plt.gcf().gca().addartist(circle1)\n",
    "\n",
    "plt.show()"
   ]
  },
  {
   "cell_type": "code",
   "execution_count": 3,
   "metadata": {},
   "outputs": [
    {
     "data": {
      "image/png": "[encoded data removed]",
      "text/plain": [
       "<Figure size 432x288 with 1 Axes>"
      ]
     },
     "metadata": {
      "needs_background": "light"
     },
     "output_type": "display_data"
    }
   ],
   "source": [
    "%matplotlib inline\n",
    "\n",
    "import numpy as np\n",
    "import matplotlib.pyplot as plt\n",
    "\n",
    "N = 50\n",
    "x = np.random.rand(N)\n",
    "y = np.random.rand(N)\n",
    "\n",
    "plt.scatter(x, y)\n",
    "plt.show()"
   ]
  },
  {
   "cell_type": "markdown",
   "metadata": {},
   "source": [
    "Example ore patch co-ordinates:\n",
    "\n",
    "```\n",
    "[(,)(,)\n",
    "\n",
    "```"
   ]
  },
  {
   "cell_type": "code",
   "execution_count": 9,
   "metadata": {},
   "outputs": [
    {
     "data": {
      "image/png": "[encoded data removed]",
      "text/plain": [
       "<Figure size 432x288 with 1 Axes>"
      ]
     },
     "metadata": {
      "needs_background": "light"
     },
     "output_type": "display_data"
    }
   ],
   "source": [
    "%matplotlib inline\n",
    "\n",
    "import numpy as np\n",
    "import matplotlib.pyplot as plt\n",
    "\n",
    "li = [\n",
    "    (1,2),\n",
    "    (2,2),(2,3),(2,4),(2,5),\n",
    "    (3,3),(3,4),(3,5),\n",
    "    (4,3),(4,4),(4,5),(4,6),\n",
    "    (5,3),(5,4),(5,5),\n",
    "    (6,2),(6,3),(6,4),(6,5),(6,6),(6,7),(6,8),(6,9),\n",
    "    (7,2),(7,3),(7,4),(7,5),(7,6),(7,7),(7,8),(7,9),\n",
    "    (8,2),(8,3),(8,4),(8,5),(8,6),(8,7),(8,8),(8,9),\n",
    "    (9,1),(9,2),(9,3),(9,4),(9,5),(9,6),(9,7),(9,8),\n",
    "    (10,2),(10,3),(10,4),(10,5),(10,7),\n",
    "  ]\n",
    "#li = [(1,2),(2,2),(9,1)]\n",
    "\n",
    "\n",
    "xs = [x[0] for x in li]\n",
    "ys = [x[1] for x in li]\n",
    "\n",
    "plt.scatter(xs, ys)\n",
    "plt.show()"
   ]
  },
  {
   "cell_type": "code",
   "execution_count": null,
   "metadata": {},
   "outputs": [],
   "source": []
  }
 ],
 "metadata": {
  "kernelspec": {
   "display_name": "Python 3",
   "language": "python",
   "name": "python3"
  },
  "language_info": {
   "codemirror_mode": {
    "name": "ipython",
    "version": 3
   },
   "file_extension": ".py",
   "mimetype": "text/x-python",
   "name": "python",
   "nbconvert_exporter": "python",
   "pygments_lexer": "ipython3",
   "version": "3.6.7"
  }
 },
 "nbformat": 4,
 "nbformat_minor": 2
}
